{
 "cells": [
  {
   "cell_type": "markdown",
   "id": "f70654c4-5a6c-4cff-af17-1da92f4a66d2",
   "metadata": {},
   "source": [
    "# Redes convolucionales\n",
    "\n",
    "Proyecto PAPIME PE102723\n",
    "\n",
    "Una red convolucional se caracteriza por la presencia de capas que realizan la operación de convolución de un filtro sobre una capa de entrada, que consiste en un volumen representado una señal: usualmente una imagen.\n",
    "\n",
    "**Referencias:**\n",
    "* [Introduction to Deep Learning: What Are Convolutional Neural Networks?](https://www.mathworks.com/videos/introduction-to-deep-learning-what-are-convolutional-neural-networks--1489512765771.html)\n",
    "* [Convolutional Neural Networks for Visual Recognition](http://cs231n.github.io/convolutional-networks/)"
   ]
  },
  {
   "cell_type": "markdown",
   "id": "c0f7818d-d7b0-43dd-ad70-dbbf6f0c58cb",
   "metadata": {},
   "source": [
    "## Convolución\n",
    "\n",
    "En una dimensión, la convolución está dada por las siguientes ecuaciones:\n",
    "\n",
    "Convolución:\n",
    "\\begin{align}\n",
    " (f * g)(t) &= \\int^{\\infty}_{-\\infty} f(\\eta) g(t - \\eta) d\\eta\n",
    "\\end{align}\n",
    "donde $-\\eta$ provoca un despazamiento e inversión de la función $g$ con respecto a $f$.\n",
    "\n",
    "Convolución discreta:\n",
    "\\begin{align}\n",
    " f[m] * g[m] &= \\sum_n f[n] g[m - n]\n",
    "\\end{align}\n",
    "\n",
    "La convolución es conmutativa\n",
    "\\begin{align}\n",
    " f * g = g * f\n",
    "\\end{align}"
   ]
  },
  {
   "cell_type": "code",
   "execution_count": 1,
   "id": "41fd67c4-74b4-4027-881a-fc73d62d5920",
   "metadata": {
    "tags": []
   },
   "outputs": [],
   "source": [
    "import numpy as np\n",
    "import matplotlib.pyplot as plt\n",
    "plt.style.use('ggplot')\n",
    "from ipywidgets import interact, interact_manual\n",
    "import ipywidgets as widgets"
   ]
  },
  {
   "cell_type": "code",
   "execution_count": 2,
   "id": "3f6a0b5c-9bed-46b5-9ce5-d061aacae8ec",
   "metadata": {
    "tags": []
   },
   "outputs": [],
   "source": [
    "# Sea por ejemplo g:\n",
    "def g(x):\n",
    "    return np.piecewise(x, [x <= 0, (x > 0) * (x < 1), x >= 1], [lambda x: 0, lambda x: 1-x, lambda x: 0])\n",
    "x = np.arange(-2.5, 2.5, 0.01)\n",
    "gx = g(x)\n",
    "gp = g(0.5 - x)"
   ]
  },
  {
   "cell_type": "code",
   "execution_count": 3,
   "id": "e79e502a-9738-4245-9642-1216c9ae3e5c",
   "metadata": {
    "tags": []
   },
   "outputs": [
    {
     "data": {
      "application/vnd.jupyter.widget-view+json": {
       "model_id": "f1476ea2547c4c3cac9b0881db7bfd4f",
       "version_major": 2,
       "version_minor": 0
      },
      "text/plain": [
       "interactive(children=(FloatSlider(value=0.0, description='t', max=2.5, min=-2.5), Output()), _dom_classes=('wi…"
      ]
     },
     "metadata": {},
     "output_type": "display_data"
    }
   ],
   "source": [
    "@interact(\n",
    "    t = widgets.FloatSlider(min=-2.5, max=2.5, step=0.1, value=0),\n",
    ")\n",
    "def transforma_g(t):\n",
    "    global gp\n",
    "    gp = g(t - x)\n",
    "    plt.plot(x, gx, label=\"$g(\\\\eta)$\")\n",
    "    plt.plot(x, gp, label=f\"$g({t} + \\\\eta)$\")\n",
    "    plt.title(f\"Corrimiento e inversión con $t={t}$\")\n",
    "    plt.xlabel(\"$\\\\eta$\")\n",
    "    plt.ylabel(\"y\")\n",
    "    plt.legend()"
   ]
  },
  {
   "cell_type": "markdown",
   "id": "27ab2e5b-3bb3-4cd9-bd76-6981abd0aae2",
   "metadata": {},
   "source": [
    "Pareciera ser que la función se ha desplazado en la dirección del signo del desplazamiento, pero se encuentra invertida.\n",
    "\n",
    "### Interpretación\n",
    "\n",
    "Se utiliza el área bajo la multiplicación en cada $t$ para evaluar qué tan semejantes son $f$ y $g$ invertida."
   ]
  },
  {
   "cell_type": "code",
   "execution_count": 4,
   "id": "ee6473d2-1c2a-4640-92d4-f75c87c45837",
   "metadata": {
    "tags": []
   },
   "outputs": [],
   "source": [
    "# Sea por ejemplo f:\n",
    "def f(x):\n",
    "    return np.piecewise(x, [x <= 0, (x > 0) * (x < 1), x >= 1], [lambda x: 0, lambda x: 1, lambda x: 0])\n",
    "fx = f(x)\n",
    "fg = fx * gp"
   ]
  },
  {
   "cell_type": "code",
   "execution_count": 5,
   "id": "8397446f-2493-4db0-9ea2-542100a306c3",
   "metadata": {
    "tags": []
   },
   "outputs": [
    {
     "data": {
      "application/vnd.jupyter.widget-view+json": {
       "model_id": "c66de02c53b54dd1a75a562720b84f39",
       "version_major": 2,
       "version_minor": 0
      },
      "text/plain": [
       "interactive(children=(FloatSlider(value=0.0, description='t', max=2.5, min=-2.5, step=0.05), Output()), _dom_c…"
      ]
     },
     "metadata": {},
     "output_type": "display_data"
    }
   ],
   "source": [
    "@interact(\n",
    "    t = widgets.FloatSlider(min=-2.5, max=2.5, step=0.05, value=0),\n",
    ")\n",
    "def producto_fg(t):\n",
    "    global gp\n",
    "    gp = g(t - x)\n",
    "    global fg\n",
    "    fg = fx * gp\n",
    "    \n",
    "    plt.fill_between(x, fg, alpha=0.4)\n",
    "    plt.plot(x, fx, label=\"$f(\\\\eta)$\")\n",
    "    plt.plot(x, gp, label=\"$g(0.5 + \\\\eta)$\")\n",
    "    plt.plot(x, fg, label=\"$f(\\\\eta)g(0.5 + \\\\eta)$\")\n",
    "    plt.title(f\"Correlación con $t={t}$\")\n",
    "    plt.xlabel(\"$\\\\eta$\")\n",
    "    plt.ylabel(\"y\")\n",
    "    plt.legend()"
   ]
  },
  {
   "cell_type": "code",
   "execution_count": 7,
   "id": "da01428c-7150-453a-950d-350c031222c8",
   "metadata": {
    "tags": []
   },
   "outputs": [
    {
     "data": {
      "image/png": "[encoded data removed]",
      "text/plain": [
       "<Figure size 640x480 with 1 Axes>"
      ]
     },
     "metadata": {},
     "output_type": "display_data"
    }
   ],
   "source": [
    "# Para obtener la gráfica, de hecho, usamos la correlación discreta llenando con ceros\n",
    "# hacia menos y más infinito.\n",
    "# Esto porque estamos evaluando numéricamente las funciones continuas.\n",
    "conv = np.convolve(fx, gx, \"same\")\n",
    "\n",
    "# (f * g)(t)\n",
    "plt.fill_between(x, fg, alpha=0.4)\n",
    "plt.plot(x, conv)\n",
    "plt.title(\"$(f * g)(t)$\")\n",
    "plt.xlabel(\"t\")\n",
    "plt.ylabel(\"y\")\n",
    "plt.show()"
   ]
  },
  {
   "cell_type": "markdown",
   "id": "3cc089ed-652b-4f91-8f46-642f19e384f6",
   "metadata": {},
   "source": [
    "## Convolución en 2D\n",
    "\n",
    "Se consideran dos señales discretas en 2D $x(n_1, n_2)$ y $h(n_1, n_2)$:\n",
    "\n",
    "\\begin{align}\n",
    " x(n_1, n_2) * h(n_1, n_2) = \\sum_{k_1=-\\infty}^{\\infty}  \\sum_{k_2=-\\infty}^{\\infty} x(k_1, k_2) h(n_1 - k_1, n_2 - k_2)\n",
    "\\end{align}"
   ]
  },
  {
   "cell_type": "code",
   "execution_count": 8,
   "id": "6e63e25e-3b22-446d-b238-c4081ff78bec",
   "metadata": {
    "tags": []
   },
   "outputs": [],
   "source": [
    "# https://docs.scipy.org/doc/scipy/reference/generated/scipy.signal.convolve2d.html\n",
    "\n",
    "from scipy import signal\n",
    "from functools import partial"
   ]
  },
  {
   "cell_type": "code",
   "execution_count": 9,
   "id": "502cbab5-668c-4bb2-b6fb-f4353532fcaf",
   "metadata": {
    "tags": []
   },
   "outputs": [],
   "source": [
    "def fdata(title, max_x, max_y, N, min_x = 0, min_y = 0, xlabel=\"$n_1$\", ylabel=\"$n_2$\"):\n",
    "    def func2d(ax, title, max_x, max_y, N, min_x = 0, min_y = 0, xlabel=\"$n_1$\", ylabel=\"$n_2$\"):\n",
    "        \"\"\"\n",
    "        Grafica la función discreta 2D\n",
    "        \"\"\"\n",
    "        X = np.arange(min_x, max_x, 1)\n",
    "        Y = np.arange(min_y, max_y, 1)\n",
    "        X, Y = np.meshgrid(X, Y)\n",
    "\n",
    "        ax.scatter(X, Y)\n",
    "        ax.set_title(title)\n",
    "\n",
    "        for i, row in enumerate(N):\n",
    "            for j, col in enumerate(row):\n",
    "                ax.annotate(col, (X[i,j], Y[i,j]), fontsize=17)\n",
    "\n",
    "        ax.set_xlabel(xlabel)\n",
    "        ax.set_ylabel(ylabel)\n",
    "    return partial(func2d, title=title, max_x=max_x, max_y=max_y, N=N, min_x = min_x, min_y = min_y, xlabel=xlabel, ylabel=ylabel)\n",
    "    \n",
    "def ejemplo_conv(funciones, ax_xmax = 5, ax_ymax = 5, ax_xmin = 0, ax_ymin = 0):\n",
    "    \"\"\"\n",
    "    Genera las matrices y grafica las funciones para un ejemplo de\n",
    "    convolución.\n",
    "    \"\"\"\n",
    "    num_funcs = len(funciones)\n",
    "    fig, axis = plt.subplots(1, num_funcs, figsize=(3 * num_funcs, 3))\n",
    "    \n",
    "    for i, fun in enumerate(funciones):\n",
    "        ax = axis[i]\n",
    "        fun(ax)\n",
    "            \n",
    "        ax.axhline(0, color='grey', linewidth=1)\n",
    "        ax.axvline(0, color='grey', linewidth=1)\n",
    "        ax.set_xticks(range(-1 + ax_xmin, ax_xmax))\n",
    "        ax.set_yticks(range(-1 + ax_ymin, ax_ymax))"
   ]
  },
  {
   "cell_type": "code",
   "execution_count": 13,
   "id": "651f2753-ad50-42fe-8f87-6f30f1bf45a8",
   "metadata": {
    "tags": []
   },
   "outputs": [
    {
     "name": "stdout",
     "output_type": "stream",
     "text": [
      "x(n_1,n_2) = \n",
      " [[1 1 1]\n",
      " [1 1 1]]\n",
      "h(n_1,n_2) = \n",
      " [[1 1]\n",
      " [1 1]\n",
      " [1 1]]\n",
      "x ** h = \n",
      " [[1 2 2 1]\n",
      " [2 4 4 2]\n",
      " [2 4 4 2]\n",
      " [1 2 2 1]]\n"
     ]
    },
    {
     "data": {
      "image/png": "[encoded data removed]",
      "text/plain": [
       "<Figure size 900x300 with 3 Axes>"
      ]
     },
     "metadata": {},
     "output_type": "display_data"
    }
   ],
   "source": [
    "# Ejemplo\n",
    "\n",
    "x = np.ones((2,3), dtype=int)\n",
    "h = np.ones((3,2), dtype=int)\n",
    "c = signal.convolve2d(x, h, mode='full', boundary='fill', fillvalue=0)\n",
    "print(\"x(n_1,n_2) = \\n\", x)\n",
    "print(\"h(n_1,n_2) = \\n\", h)\n",
    "print(\"x ** h = \\n\", c)\n",
    "\n",
    "ejemplo_conv([fdata(\"$x(n_1,n_2)$\", 3, 2, x),\n",
    "              fdata(\"$h(n_1,n_2)$\", 2, 3, h),\n",
    "              fdata(\"$x(n_1,n_2) ** h(n_1,n_2)$\", 4, 4, c)])"
   ]
  },
  {
   "cell_type": "markdown",
   "id": "9ba2181e-665c-4079-a4d9-72085fe2da27",
   "metadata": {},
   "source": [
    "## Convolución en imágenes\n",
    "\n",
    "Al realizar la convolución de una imagen $x(n_1,n_2)$ con una matriz más pequeña $h(n_1,n_2)$, esta funge como filtro y obtenemos información particular acerca de la imagen.\n",
    "\n",
    "![Convolución2D](figuras/luna_peque.jpg \"Convolución 2D\")"
   ]
  },
  {
   "cell_type": "code",
   "execution_count": 17,
   "id": "322dc6f5-323b-4424-a77c-aee8431b9735",
   "metadata": {
    "tags": []
   },
   "outputs": [],
   "source": [
    "from PIL import Image"
   ]
  },
  {
   "cell_type": "code",
   "execution_count": 29,
   "id": "01b630d9-8344-48b0-9ff8-968ed117984e",
   "metadata": {
    "tags": []
   },
   "outputs": [
    {
     "name": "stdout",
     "output_type": "stream",
     "text": [
      "Forma de la matriz imagen:  (116, 87, 3)\n"
     ]
    },
    {
     "data": {
      "image/png": "[encoded data removed]",
      "text/plain": [
       "<Figure size 640x480 with 1 Axes>"
      ]
     },
     "metadata": {},
     "output_type": "display_data"
    }
   ],
   "source": [
    "np_img = np.asarray(Image.open('figuras/luna_peque.jpg'))\n",
    "print(\"Forma de la matriz imagen: \", np_img.shape)\n",
    "plt.grid(False)\n",
    "imgplot = plt.imshow(np_img)"
   ]
  },
  {
   "cell_type": "code",
   "execution_count": 19,
   "id": "3ea74a1b-9c16-4749-bbf3-951c16b2ff5c",
   "metadata": {
    "tags": []
   },
   "outputs": [],
   "source": [
    "# FILTROS\n",
    "#\n",
    "# Más filtros sugeridos en:\n",
    "# https://beej.us/blog/data/convolution-image-processing/\n",
    "\n",
    "gradient = np.array([[ -3-3j, 0-10j,  +3 -3j],\n",
    "                   [-10+0j, 0+ 0j, +10 +0j],\n",
    "                   [ -3+3j, 0+10j,  +3 +3j]]) # Gx + j*Gy\n",
    "blur = np.ones((3,3))/9\n",
    "emboss = np.array([[-18,-9,0],[-9,9,9],[0,9,18]])/9\n",
    "mikes = np.array([[2,22,1], [22,1,-22], [1,-22,-2]])/9"
   ]
  },
  {
   "cell_type": "code",
   "execution_count": 35,
   "id": "4780d6cf-900d-4d36-819a-f4e2042dbc50",
   "metadata": {
    "tags": []
   },
   "outputs": [
    {
     "data": {
      "application/vnd.jupyter.widget-view+json": {
       "model_id": "3fd086415f39469fa5877c5b6ccb3ad5",
       "version_major": 2,
       "version_minor": 0
      },
      "text/plain": [
       "interactive(children=(SelectionSlider(description='nombre_filtro', index=2, options=('gradient', 'blur', 'embo…"
      ]
     },
     "metadata": {},
     "output_type": "display_data"
    }
   ],
   "source": [
    "@interact(\n",
    "    nombre_filtro = widgets.SelectionSlider(\n",
    "        options=['gradient', 'blur', 'emboss', 'mikes'],\n",
    "        value='emboss'\n",
    "    )\n",
    ")\n",
    "def muestra_filtrada(nombre_filtro):\n",
    "    filtro = globals()[nombre_filtro]\n",
    "    print(filtro)\n",
    "    img_filtrada = np.zeros(np_img.shape, dtype=complex)\n",
    "    for i in range(3):\n",
    "        img_filtrada[:,:,i] = signal.convolve2d(np_img[:,:,i],\n",
    "                                                            filtro,\n",
    "                                                            boundary='symm',\n",
    "                                                            mode='same')\n",
    "    fig, (ax_mag, ax_ang) = plt.subplots(1, 2)\n",
    "    ax_mag.grid(False)\n",
    "    ax_mag.imshow(np.absolute(img_filtrada).astype(int))\n",
    "    ax_mag.set_title(nombre_filtro)\n",
    "    ax_ang.imshow(np.angle(img_filtrada), cmap='hsv') # hsv is cyclic, like angles\n",
    "    ax_ang.grid(False)"
   ]
  },
  {
   "cell_type": "markdown",
   "id": "6807dd29-cf6a-403b-815d-1e371459d22c",
   "metadata": {},
   "source": [
    "# Datos\n",
    "\n",
    "Utilizaremos el conjunto de datos [CIFAR-10](https://www.cs.toronto.edu/~kriz/cifar.html)\n",
    "Es necesario descargarlos dentro de una carpeta 'datos', dejar ahí el archivo comprimido para la sección siguiente y descomprimirlo para analizar su estructura en esta sección.\n",
    "\n",
    "Cifar contiene **60,000** imágenes de $32 \\times 32$ pixeles, para 10 clases de objetos.\n",
    "$50,000$ son para entrenamiento y $10,000$ para pruebas (este último se puede subdividir cuando sea necesario contar con un conjunto de validación y otro de prueba).files_in_cifar = ['batches.meta',\n",
    "                  'data_batch_1', 'data_batch_2', 'data_batch_3', 'data_batch_4', 'data_batch_5',\n",
    "                  'test_batch']\n",
    "files_in_cifar = [\"data/cifar-10-batches-py/\" + file_name for file_name in files_in_cifar]"
   ]
  },
  {
   "cell_type": "code",
   "execution_count": 21,
   "id": "1a55a3e1-d1fd-4eb7-9242-5b9d293d5143",
   "metadata": {
    "tags": []
   },
   "outputs": [],
   "source": [
    "archivos_en_cifar = ['batches.meta',\n",
    "                     'data_batch_1', 'data_batch_2', 'data_batch_3', 'data_batch_4', 'data_batch_5',\n",
    "                     'test_batch']\n",
    "archivos_en_cifar = [\"data/cifar-10-batches-py/\" + nombre_archivo for nombre_archivo in archivos_en_cifar]"
   ]
  },
  {
   "cell_type": "code",
   "execution_count": 23,
   "id": "25d80f07-d074-44ed-bfca-c656154a5b39",
   "metadata": {
    "tags": []
   },
   "outputs": [
    {
     "name": "stdout",
     "output_type": "stream",
     "text": [
      "Labels:  ('airplane', 'automobile', 'bird', 'cat', 'deer', 'dog', 'frog', 'horse', 'ship', 'truck')\n"
     ]
    }
   ],
   "source": [
    "# Clases\n",
    "#\n",
    "# Incluye los datos:\n",
    "# b'num_cases_per_batch': 10000,\n",
    "# b'num_vis': 3072 y\n",
    "# b'label_names', que es la única que usaremos por ahora\n",
    "with open(archivos_en_cifar[0], 'rb') as fo:\n",
    "    import pickle\n",
    "    label_names = pickle.load(fo, encoding='bytes')\n",
    "    label_names = [name.decode('utf-8') for name in label_names[b'label_names']]\n",
    "classes = tuple(label_names)\n",
    "print(\"Labels: \", classes)"
   ]
  },
  {
   "cell_type": "code",
   "execution_count": 24,
   "id": "6e32be57-a857-40d6-be14-0278c8ff1788",
   "metadata": {
    "tags": []
   },
   "outputs": [],
   "source": [
    "def unpickle(file):\n",
    "    \"\"\" Decodifica los datos para un lote.\n",
    "    Estos vienen en forma de diccionarios.\n",
    "    \"\"\"\n",
    "    import pickle\n",
    "    with open(file, 'rb') as fo:\n",
    "        dict = pickle.load(fo, encoding='bytes')\n",
    "        print(\"Loaded\", dict[b'batch_label'].decode('utf-8'))\n",
    "    return dict"
   ]
  },
  {
   "cell_type": "code",
   "execution_count": 25,
   "id": "2af95e84-fe0e-4965-99ba-1b60d51953f3",
   "metadata": {
    "tags": []
   },
   "outputs": [
    {
     "name": "stdout",
     "output_type": "stream",
     "text": [
      "Loaded training batch 1 of 5\n"
     ]
    }
   ],
   "source": [
    "# Un diccionario de lote contiene las llaves [b'batch_label', b'labels', b'data', b'filenames']\n",
    "# data:   arreglo de 10000x3072 uint8S.  1 ejemplar por renglón. 3D-RGB Row-major.\n",
    "# labels: las clasificaciones a las que pertenecen.\n",
    "cifar_train_batch = unpickle(archivos_en_cifar[1])\n",
    "X_train = cifar_train_batch[b'data']\n",
    "Y_train = cifar_train_batch[b'labels']"
   ]
  },
  {
   "cell_type": "code",
   "execution_count": 36,
   "id": "2d3ae9ce-42bd-46db-87dc-4e8c90e1fe98",
   "metadata": {
    "tags": []
   },
   "outputs": [
    {
     "data": {
      "application/vnd.jupyter.widget-view+json": {
       "model_id": "e9b96c20832c4d84804384bf1aab86f0",
       "version_major": 2,
       "version_minor": 0
      },
      "text/plain": [
       "interactive(children=(IntSlider(value=4999, description='índice', max=9999), Output()), _dom_classes=('widget-…"
      ]
     },
     "metadata": {},
     "output_type": "display_data"
    }
   ],
   "source": [
    "@interact(\n",
    "    índice = (0, len(X_train) - 1)\n",
    ")\n",
    "def muestraImagenEntrenamiento(índice):\n",
    "    data = X_train[índice]\n",
    "    label = Y_train[índice]\n",
    "    data = data.reshape((3,32,32))\n",
    "    #print(data.shape, data)\n",
    "    new_data = np.zeros((32,32,3), float)\n",
    "    new_data[:,:,0] = data[0]/255\n",
    "    new_data[:,:,1] = data[1]/255\n",
    "    new_data[:,:,2] = data[2]/255\n",
    "    #print(new_data)\n",
    "    plt.figure(figsize = (2,2))\n",
    "    plt.imshow(new_data)\n",
    "    plt.grid(False)\n",
    "    plt.title(label_names[label])"
   ]
  },
  {
   "cell_type": "markdown",
   "id": "79d64200-c1e2-48b3-81a2-b2fff01bc77f",
   "metadata": {
    "tags": []
   },
   "source": [
    "## Red convolucional con Torchvision\n",
    "\n",
    "https://pytorch.org/tutorials/beginner/blitz/cifar10_tutorial.html"
   ]
  },
  {
   "cell_type": "code",
   "execution_count": 39,
   "id": "c7fb51aa-cf28-4365-b5b5-075a579424f2",
   "metadata": {
    "tags": []
   },
   "outputs": [],
   "source": [
    "# !pip3 install torchvision"
   ]
  },
  {
   "cell_type": "code",
   "execution_count": 40,
   "id": "50ef1ba5-1e09-4111-b1e6-1953ebfad8a4",
   "metadata": {
    "tags": []
   },
   "outputs": [],
   "source": [
    "import torch\n",
    "import torchvision\n",
    "import torchvision.transforms as transforms\n",
    "\n",
    "from torch.utils.data.sampler import SubsetRandomSampler\n",
    "\n",
    "from torch.autograd import Variable\n",
    "import torch.nn as nn\n",
    "import torch.nn.functional as F"
   ]
  },
  {
   "cell_type": "code",
   "execution_count": 41,
   "id": "f45ad836-2fae-49ff-9e67-157e0e47159d",
   "metadata": {
    "tags": []
   },
   "outputs": [],
   "source": [
    "# Torchvision devuelve imágenes en el rango [0, 1]\n",
    "# Necesitamos tensores en [-1,1].\n",
    "transform = transforms.Compose(\n",
    "    [transforms.ToTensor(),\n",
    "     transforms.Normalize((0.5, 0.5, 0.5), (0.5, 0.5, 0.5))])"
   ]
  },
  {
   "cell_type": "code",
   "execution_count": 44,
   "id": "39dd7f22-b90d-4470-9e71-ab5bfc73f28a",
   "metadata": {
    "tags": []
   },
   "outputs": [],
   "source": [
    "def imshow(img):\n",
    "    \"\"\"\n",
    "    Muestra una imagen que sale de la red.\n",
    "    \"\"\"\n",
    "    img = img / 2 + 0.5     # unnormalize\n",
    "    npimg = img.numpy()\n",
    "    plt.grid(False)\n",
    "    plt.imshow(np.transpose(npimg, (1, 2, 0)))"
   ]
  },
  {
   "cell_type": "code",
   "execution_count": 42,
   "id": "fb65241f-bb16-443d-b449-27ca412dc48d",
   "metadata": {
    "tags": []
   },
   "outputs": [
    {
     "name": "stdout",
     "output_type": "stream",
     "text": [
      "Files already downloaded and verified\n",
      "Files already downloaded and verified\n"
     ]
    }
   ],
   "source": [
    "# Conjuntos de datos\n",
    "\n",
    "batch_size = 4\n",
    "\n",
    "trainset = torchvision.datasets.CIFAR10(root='./data', train=True,\n",
    "                                        download=True, transform=transform)\n",
    "trainloader = torch.utils.data.DataLoader(trainset, batch_size=batch_size,\n",
    "                                          shuffle=True, num_workers=2)\n",
    "\n",
    "testset = torchvision.datasets.CIFAR10(root='./data', train=False,\n",
    "                                       download=True, transform=transform)\n",
    "testloader = torch.utils.data.DataLoader(testset, batch_size=batch_size,\n",
    "                                         shuffle=False, num_workers=2)"
   ]
  },
  {
   "cell_type": "markdown",
   "id": "7220152c-f268-4cee-b96f-093ef8b88f60",
   "metadata": {},
   "source": [
    "Parámetros para la capa convolucional:\n",
    "\n",
    "* *kernel size*: tamaño del filtro.\n",
    "* *kernel tipe*: los valores del filtro, casos particulares son la identidad, detección de bordes, afinar, blur, etc.\n",
    "* *strides* o *saltos*: distance recorrida entre aplicaciones sucesivas del núcleo.\n",
    "* *padding*: técnica para agregar datos a las orillas de la imagen.\n",
    "* *output layers*: número de núcleos distintos que serán aplicados a la imagen.\n",
    "\n",
    "* input: [batch, in_height, in_width, in_channels]"
   ]
  },
  {
   "cell_type": "code",
   "execution_count": 45,
   "id": "c831c02d-48f8-44e4-bacb-68c97d6e4d5d",
   "metadata": {
    "tags": []
   },
   "outputs": [],
   "source": [
    "# Entrenamiento\n",
    "n_training_samples = 20000\n",
    "train_sampler = SubsetRandomSampler(np.arange(n_training_samples, dtype=np.int64))\n",
    "\n",
    "# Validación\n",
    "n_val_samples = 5000\n",
    "val_sampler = SubsetRandomSampler(np.arange(n_training_samples, n_training_samples + n_val_samples, dtype=np.int64))\n",
    "\n",
    "# Prueba\n",
    "n_test_samples = 5000\n",
    "test_sampler = SubsetRandomSampler(np.arange(n_test_samples, dtype=np.int64))"
   ]
  },
  {
   "cell_type": "markdown",
   "id": "e5bd51f7-664d-4750-a2d8-9ca3efdcb99c",
   "metadata": {},
   "source": [
    "### Arquitectura\n",
    "\n",
    "<img src=\"./figuras/Tutorial.png\"/>"
   ]
  },
  {
   "cell_type": "code",
   "execution_count": 46,
   "id": "7c470fd6-83cd-4fdc-b9ce-2a01201f5daf",
   "metadata": {
    "tags": []
   },
   "outputs": [],
   "source": [
    "class SimpleCNN(nn.Module):\n",
    "    \n",
    "    #Our batch shape for input x is (3, 32, 32)\n",
    "    \n",
    "    def __init__(self):\n",
    "        super(SimpleCNN, self).__init__()\n",
    "        \n",
    "        #Input channels = 3, output channels = 18\n",
    "        self.conv1 = torch.nn.Conv2d(3, 18, kernel_size=3, stride=1, padding=1)\n",
    "        self.pool = torch.nn.MaxPool2d(kernel_size=2, stride=2, padding=0)\n",
    "        \n",
    "        #4608 input features, 64 output features (see sizing flow below)\n",
    "        self.fc1 = torch.nn.Linear(18 * 16 * 16, 64)\n",
    "        \n",
    "        #64 input features, 10 output features for our 10 defined classes\n",
    "        self.fc2 = torch.nn.Linear(64, 10)\n",
    "        \n",
    "    def forward(self, x):\n",
    "        \n",
    "        #Computes the activation of the first convolution\n",
    "        #Size changes from (3, 32, 32) to (18, 32, 32)\n",
    "        x = F.relu(self.conv1(x))\n",
    "        \n",
    "        #Size changes from (18, 32, 32) to (18, 16, 16)\n",
    "        x = self.pool(x)\n",
    "        \n",
    "        #Reshape data to input to the input layer of the neural net\n",
    "        #Size changes from (18, 16, 16) to (1, 4608)\n",
    "        #Recall that the -1 infers this dimension from the other given dimension\n",
    "        x = x.view(-1, 18 * 16 *16)\n",
    "        \n",
    "        #Computes the activation of the first fully connected layer\n",
    "        #Size changes from (1, 4608) to (1, 64)\n",
    "        x = F.relu(self.fc1(x))\n",
    "        \n",
    "        #Computes the second fully connected layer (activation applied later)\n",
    "        #Size changes from (1, 64) to (1, 10)\n",
    "        x = self.fc2(x)\n",
    "        return(x)"
   ]
  },
  {
   "cell_type": "markdown",
   "id": "0e6ce991-f7c7-45d6-959a-911cd2e62d86",
   "metadata": {},
   "source": [
    "# Entrenamiento"
   ]
  },
  {
   "cell_type": "code",
   "execution_count": 47,
   "id": "781d9646-8718-4262-8f94-f2f55d4e639c",
   "metadata": {
    "tags": []
   },
   "outputs": [],
   "source": [
    "import torch.optim as optim\n",
    "\n",
    "def train(self):\n",
    "    \n",
    "    criterion = nn.CrossEntropyLoss()\n",
    "    #optimizer = optim.SGD(self.parameters(), lr=0.001, momentum=0.9)\n",
    "    optimizer = torch.optim.Adam(self.parameters())\n",
    "    \n",
    "    for epoch in range(2):  # loop over the dataset multiple times\n",
    "\n",
    "        running_loss = 0.0\n",
    "        for i, data in enumerate(trainloader, 0):\n",
    "            # get the inputs; data is a list of [inputs, labels]\n",
    "            inputs, labels = data\n",
    "\n",
    "            # zero the parameter gradients\n",
    "            optimizer.zero_grad()\n",
    "\n",
    "            # forward + backward + optimize\n",
    "            outputs = net(inputs)\n",
    "            loss = criterion(outputs, labels)\n",
    "            loss.backward()\n",
    "            optimizer.step()\n",
    "\n",
    "            # print statistics\n",
    "            running_loss += loss.item()\n",
    "            if i % 2000 == 1999:    # print every 2000 mini-batches\n",
    "                print('[%d, %5d] loss: %.3f' %\n",
    "                      (epoch + 1, i + 1, running_loss / 2000))\n",
    "                running_loss = 0.0\n",
    "\n",
    "    print('Finished Training')\n",
    "    \n",
    "setattr(SimpleCNN, 'train', train)"
   ]
  },
  {
   "cell_type": "code",
   "execution_count": 48,
   "id": "a26c4411-4948-40ea-adb4-8af004a59bc8",
   "metadata": {
    "tags": []
   },
   "outputs": [],
   "source": [
    "net = SimpleCNN()"
   ]
  },
  {
   "cell_type": "code",
   "execution_count": 49,
   "id": "d1197813-78b9-4d63-bb31-9aa24cd49f5d",
   "metadata": {
    "tags": []
   },
   "outputs": [],
   "source": [
    "##\n",
    "# Si tienes GPUs e instalaste PyTorch para GPUs:\n",
    "##\n",
    "\n",
    "# device = torch.device('cuda:0' if torch.cuda.is_available() else 'cpu')\n",
    "# print(device)\n",
    "# net.to(device)\n",
    "# inputs, labels = data[0].to(device), data[1].to(device)\n",
    "\n",
    "# Más aún, revisa:\n",
    "# https://pytorch.org/tutorials/beginner/blitz/data_parallel_tutorial.html"
   ]
  },
  {
   "cell_type": "code",
   "execution_count": 50,
   "id": "6874cf28-a450-40fe-a67f-caf5bb97d652",
   "metadata": {
    "tags": []
   },
   "outputs": [
    {
     "data": {
      "application/vnd.jupyter.widget-view+json": {
       "model_id": "2226f0dbe488451a9a455be41945ed0c",
       "version_major": 2,
       "version_minor": 0
      },
      "text/plain": [
       "interactive(children=(Button(description='Run Interact', style=ButtonStyle()), Output()), _dom_classes=('widge…"
      ]
     },
     "metadata": {},
     "output_type": "display_data"
    }
   ],
   "source": [
    "@interact_manual()\n",
    "def entrena():\n",
    "    net.train()"
   ]
  },
  {
   "cell_type": "code",
   "execution_count": 51,
   "id": "f6ee171a-a3f3-4ebe-8786-b507b4e1236c",
   "metadata": {
    "tags": []
   },
   "outputs": [
    {
     "data": {
      "application/vnd.jupyter.widget-view+json": {
       "model_id": "ee129bbb36fa4da3aefd83cee01dc205",
       "version_major": 2,
       "version_minor": 0
      },
      "text/plain": [
       "interactive(children=(Button(description='Run Interact', style=ButtonStyle()), Output()), _dom_classes=('widge…"
      ]
     },
     "metadata": {},
     "output_type": "display_data"
    }
   ],
   "source": [
    "# Guardar el modelo\n",
    "\n",
    "@interact_manual()\n",
    "def guarda_modelo():\n",
    "    PATH = './cifar_net.pth'\n",
    "    torch.save(net.state_dict(), PATH)"
   ]
  },
  {
   "cell_type": "code",
   "execution_count": 52,
   "id": "1c1ad383-4dac-4fb4-b09e-7e3472ee1b04",
   "metadata": {
    "tags": []
   },
   "outputs": [
    {
     "data": {
      "application/vnd.jupyter.widget-view+json": {
       "model_id": "a58fb2158bb345dd9e374eda5ee50e62",
       "version_major": 2,
       "version_minor": 0
      },
      "text/plain": [
       "interactive(children=(Button(description='Run Interact', style=ButtonStyle()), Output()), _dom_classes=('widge…"
      ]
     },
     "metadata": {},
     "output_type": "display_data"
    }
   ],
   "source": [
    "# Cargamos los parámetros entrenados en el otro cuaderno\n",
    "\n",
    "@interact_manual()\n",
    "def guarda_modelo():\n",
    "    PATH = './data/cifar_net.pth'\n",
    "    r = net.load_state_dict(torch.load(PATH))\n",
    "    print(r)"
   ]
  },
  {
   "cell_type": "markdown",
   "id": "cb332802-b32a-4171-b812-ae9341d1d3ba",
   "metadata": {},
   "source": [
    "## Prueba"
   ]
  },
  {
   "cell_type": "code",
   "execution_count": 53,
   "id": "0a14c36c-7af3-44eb-a5a8-2da93d055730",
   "metadata": {
    "tags": []
   },
   "outputs": [
    {
     "name": "stdout",
     "output_type": "stream",
     "text": [
      "GroundTruth:  cat   ship  ship  airplane\n",
      "Predicted:  airplane:5s horse:5s deer:5s airplane:5s\n"
     ]
    },
    {
     "data": {
      "image/png": "[encoded data removed]",
      "text/plain": [
       "<Figure size 640x480 with 1 Axes>"
      ]
     },
     "metadata": {},
     "output_type": "display_data"
    }
   ],
   "source": [
    "dataiter = iter(testloader)\n",
    "images, labels = next(dataiter)\n",
    "\n",
    "# print images\n",
    "imshow(torchvision.utils.make_grid(images))\n",
    "print('GroundTruth: ', ' '.join(f'{classes[labels[j]]:5s}' for j in range(4)))\n",
    "\n",
    "outputs = net(images)\n",
    "_, predicted = torch.max(outputs, 1)  # Mayor probabilidad\n",
    "\n",
    "print('Predicted: ', ' '.join(f'{classes[predicted[j]]}:5s'\n",
    "                              for j in range(4)))"
   ]
  },
  {
   "cell_type": "code",
   "execution_count": 54,
   "id": "191f2702-787f-42c8-be85-8f4675812293",
   "metadata": {
    "tags": []
   },
   "outputs": [
    {
     "name": "stdout",
     "output_type": "stream",
     "text": [
      "torch.Size([4, 3, 32, 32])\n"
     ]
    }
   ],
   "source": [
    "# 4 imágenes, 3 canales, 32x32 pixeles\n",
    "print(images.shape)"
   ]
  },
  {
   "cell_type": "code",
   "execution_count": 55,
   "id": "cc42f5b8-a34c-474a-b49a-b0164db2c365",
   "metadata": {
    "tags": []
   },
   "outputs": [
    {
     "name": "stdout",
     "output_type": "stream",
     "text": [
      "Exactitud de la red en las 10000 imágenes de prueba: 10 %\n"
     ]
    }
   ],
   "source": [
    "# Exactitud\n",
    "\n",
    "correct = 0\n",
    "total = 0\n",
    "# si no hay entrenamiento, no se necesita el gradiente\n",
    "with torch.no_grad():\n",
    "    for data in testloader:\n",
    "        images, labels = data\n",
    "        # evalúa sobre todas las imágenes\n",
    "        outputs = net(images)\n",
    "        # selecciona la clase con mayor probabilidad\n",
    "        _, predicted = torch.max(outputs.data, 1)\n",
    "        total += labels.size(0)\n",
    "        correct += (predicted == labels).sum().item()\n",
    "\n",
    "print(f'Exactitud de la red en las 10000 imágenes de prueba: {100 * correct // total} %')"
   ]
  },
  {
   "cell_type": "code",
   "execution_count": 56,
   "id": "8b6d9cde-5335-4511-a881-0f938d7b5708",
   "metadata": {
    "tags": []
   },
   "outputs": [
    {
     "name": "stdout",
     "output_type": "stream",
     "text": [
      "Exactitud por clase: airplane is 58.5 %\n",
      "Exactitud por clase: automobile is 0.0 %\n",
      "Exactitud por clase: bird  is 4.4 %\n",
      "Exactitud por clase: cat   is 0.2 %\n",
      "Exactitud por clase: deer  is 35.2 %\n",
      "Exactitud por clase: dog   is 0.0 %\n",
      "Exactitud por clase: frog  is 0.0 %\n",
      "Exactitud por clase: horse is 0.9 %\n",
      "Exactitud por clase: ship  is 3.1 %\n",
      "Exactitud por clase: truck is 0.0 %\n"
     ]
    }
   ],
   "source": [
    "# Clase por clase\n",
    "\n",
    "# prepare to count predictions for each class\n",
    "correct_pred = {classname: 0 for classname in classes}\n",
    "total_pred = {classname: 0 for classname in classes}\n",
    "\n",
    "# again no gradients needed\n",
    "with torch.no_grad():\n",
    "    for data in testloader:\n",
    "        images, labels = data\n",
    "        outputs = net(images)\n",
    "        _, predictions = torch.max(outputs, 1)\n",
    "        # collect the correct predictions for each class\n",
    "        for label, prediction in zip(labels, predictions):\n",
    "            if label == prediction:\n",
    "                correct_pred[classes[label]] += 1\n",
    "            total_pred[classes[label]] += 1\n",
    "\n",
    "\n",
    "# print accuracy for each class\n",
    "for classname, correct_count in correct_pred.items():\n",
    "    accuracy = 100 * float(correct_count) / total_pred[classname]\n",
    "    print(f'Exactitud por clase: {classname:5s} is {accuracy:.1f} %')"
   ]
  },
  {
   "cell_type": "code",
   "execution_count": null,
   "id": "6397ae10-4e9f-4568-81f5-37c867732694",
   "metadata": {},
   "outputs": [],
   "source": [
    "# TODO: Imprimir filtros."
   ]
  }
 ],
 "metadata": {
  "kernelspec": {
   "display_name": "Python 3 (ipykernel)",
   "language": "python",
   "name": "python3"
  },
  "language_info": {
   "codemirror_mode": {
    "name": "ipython",
    "version": 3
   },
   "file_extension": ".py",
   "mimetype": "text/x-python",
   "name": "python",
   "nbconvert_exporter": "python",
   "pygments_lexer": "ipython3",
   "version": "3.10.6"
  }
 },
 "nbformat": 4,
 "nbformat_minor": 5
}
